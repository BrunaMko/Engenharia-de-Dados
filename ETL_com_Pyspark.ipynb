{
  "cells": [
    {
      "cell_type": "code",
      "execution_count": 3,
      "id": "ebfff702",
      "metadata": {
        "id": "ebfff702"
      },
      "outputs": [],
      "source": [
        "from pyspark.sql import SparkSession\n",
        "from pyspark.sql.functions import col"
      ]
    },
    {
      "cell_type": "code",
      "execution_count": 4,
      "id": "0b497659",
      "metadata": {
        "id": "0b497659"
      },
      "outputs": [],
      "source": [
        "# Inicializando a SparkSession\n",
        "spark = SparkSession.builder\\\n",
        "    .appName(\"ETL com Spark\")\\\n",
        "    .getOrCreate()\n"
      ]
    },
    {
      "cell_type": "code",
      "execution_count": 21,
      "id": "1af40f9f",
      "metadata": {
        "colab": {
          "base_uri": "https://localhost:8080/"
        },
        "id": "1af40f9f",
        "outputId": "b12aa621-7b2c-4a76-90ed-3c7617483ac4"
      },
      "outputs": [
        {
          "output_type": "stream",
          "name": "stdout",
          "text": [
            "root\n",
            " |-- customer_id: integer (nullable = true)\n",
            " |-- name: string (nullable = true)\n",
            " |-- email: string (nullable = true)\n",
            " |-- active: boolean (nullable = true)\n",
            "\n",
            "root\n",
            " |-- sale_id: integer (nullable = true)\n",
            " |-- customer_id: integer (nullable = true)\n",
            " |-- product: string (nullable = true)\n",
            " |-- quantity: integer (nullable = true)\n",
            "\n"
          ]
        }
      ],
      "source": [
        "# Caminhos dos arquivos CSV\n",
        "file_path_customers = \"/content/customers.csv\"\n",
        "file_path_sales = \"/content/sales.csv\"\n",
        "\n",
        "# Extraindo os dados dos arquivos CSV\n",
        "df_customers = spark.read.csv(file_path_customers, header=True, inferSchema=True)\n",
        "df_sales = spark.read.csv(file_path_sales, header=True, inferSchema=True)\n",
        "\n",
        "# Exibindo os esquemas dos DataFrames\n",
        "df_customers.printSchema()\n",
        "df_sales.printSchema()\n"
      ]
    },
    {
      "cell_type": "code",
      "execution_count": 22,
      "id": "8a7b8d0c",
      "metadata": {
        "id": "8a7b8d0c"
      },
      "outputs": [],
      "source": [
        "# Transformando os dados: Filtrando clientes ativos e que tiveram alguma compra\n",
        "df_customers_filtered = df_customers.filter(col(\"active\") == True)\n",
        "df_sales_filtered = df_sales.filter(col(\"quantity\") > 0)\n"
      ]
    },
    {
      "cell_type": "code",
      "execution_count": 23,
      "id": "3c8b3ced",
      "metadata": {
        "colab": {
          "base_uri": "https://localhost:8080/"
        },
        "id": "3c8b3ced",
        "outputId": "fa817b34-34eb-4778-fdf7-3b53199ebf82"
      },
      "outputs": [
        {
          "output_type": "stream",
          "name": "stdout",
          "text": [
            "+-----------+------------+-----------------------+------+-------+-----------+---------+--------+\n",
            "|customer_id|name        |email                  |active|sale_id|customer_id|product  |quantity|\n",
            "+-----------+------------+-----------------------+------+-------+-----------+---------+--------+\n",
            "|62         |Customer_62 |customer62@example.com |true  |2      |62         |Product_C|5       |\n",
            "|166        |Customer_166|customer166@example.com|true  |3      |166        |Product_C|5       |\n",
            "|192        |Customer_192|customer192@example.com|true  |5      |192        |Product_A|2       |\n",
            "|28         |Customer_28 |customer28@example.com |true  |7      |28         |Product_B|3       |\n",
            "|2          |Customer_2  |customer2@example.com  |true  |9      |2          |Product_C|5       |\n",
            "+-----------+------------+-----------------------+------+-------+-----------+---------+--------+\n",
            "only showing top 5 rows\n",
            "\n"
          ]
        }
      ],
      "source": [
        "# Realizando um join entre os DataFrames\n",
        "df_joined = df_customers_filtered.join(df_sales_filtered, df_customers_filtered.customer_id == df_sales_filtered.customer_id, \"inner\")\n",
        "df_joined.show(5,False)"
      ]
    },
    {
      "cell_type": "code",
      "execution_count": 25,
      "id": "5ec0c780",
      "metadata": {
        "colab": {
          "base_uri": "https://localhost:8080/"
        },
        "id": "5ec0c780",
        "outputId": "0f13f3ea-c711-43b9-8635-9c0a869fa30e"
      },
      "outputs": [
        {
          "output_type": "stream",
          "name": "stdout",
          "text": [
            "+-----------+------------+---------+--------+\n",
            "|customer_id|        name|  product|quantity|\n",
            "+-----------+------------+---------+--------+\n",
            "|         62| Customer_62|Product_C|       5|\n",
            "|        166|Customer_166|Product_C|       5|\n",
            "|        192|Customer_192|Product_A|       2|\n",
            "|         28| Customer_28|Product_B|       3|\n",
            "|          2|  Customer_2|Product_C|       5|\n",
            "|        115|Customer_115|Product_A|       1|\n",
            "|         41| Customer_41|Product_C|       3|\n",
            "|         80| Customer_80|Product_A|       4|\n",
            "|         79| Customer_79|Product_C|       1|\n",
            "|         52| Customer_52|Product_A|       8|\n",
            "|         59| Customer_59|Product_C|       3|\n",
            "|         32| Customer_32|Product_B|       4|\n",
            "|        101|Customer_101|Product_C|       2|\n",
            "|        167|Customer_167|Product_A|       7|\n",
            "|         22| Customer_22|Product_C|       4|\n",
            "|         80| Customer_80|Product_B|       8|\n",
            "|        103|Customer_103|Product_A|       5|\n",
            "|         57| Customer_57|Product_B|       6|\n",
            "|        182|Customer_182|Product_C|       6|\n",
            "|        162|Customer_162|Product_B|       2|\n",
            "+-----------+------------+---------+--------+\n",
            "only showing top 20 rows\n",
            "\n"
          ]
        }
      ],
      "source": [
        "# Selecionando colunas específicas do DataFrame final\n",
        "df_result = df_joined.select(\n",
        "    df_customers_filtered.customer_id,\n",
        "    df_customers_filtered.name,\n",
        "    df_sales_filtered.product,\n",
        "    df_sales_filtered.quantity\n",
        " )\n",
        "\n",
        "# Exibindo os primeiros registros do DataFrame final\n",
        "df_result.show()"
      ]
    },
    {
      "cell_type": "code",
      "execution_count": 26,
      "id": "77545c02",
      "metadata": {
        "id": "77545c02"
      },
      "outputs": [],
      "source": [
        "# Carregando os dados finais em um novo arquivo CSV\n",
        "output_path = \"/content/result.csv\"\n",
        "df_result.write.csv(output_path, header=True)\n",
        "\n"
      ]
    },
    {
      "cell_type": "code",
      "source": [
        "# Supondo que eu queira salvar o DataFrame no HDFS\n",
        "output_path = \"/user/seu_usuario/result.csv\"  # Caminho no HDFS\n",
        "\n",
        "# Escrever o DataFrame no HDFS\n",
        "df_result.write.csv(output_path, header=True)"
      ],
      "metadata": {
        "id": "spHFuvW732wA"
      },
      "id": "spHFuvW732wA",
      "execution_count": null,
      "outputs": []
    }
  ],
  "metadata": {
    "kernelspec": {
      "display_name": "Python 3 (ipykernel)",
      "language": "python",
      "name": "python3"
    },
    "language_info": {
      "codemirror_mode": {
        "name": "ipython",
        "version": 3
      },
      "file_extension": ".py",
      "mimetype": "text/x-python",
      "name": "python",
      "nbconvert_exporter": "python",
      "pygments_lexer": "ipython3",
      "version": "3.11.5"
    },
    "colab": {
      "provenance": []
    }
  },
  "nbformat": 4,
  "nbformat_minor": 5
}